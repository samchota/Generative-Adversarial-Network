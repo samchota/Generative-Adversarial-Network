{
 "cells": [
  {
   "cell_type": "code",
   "execution_count": 1,
   "metadata": {},
   "outputs": [
    {
     "name": "stderr",
     "output_type": "stream",
     "text": [
      "Using TensorFlow backend.\n"
     ]
    }
   ],
   "source": [
    "%matplotlib inline\n",
    "import numpy as np\n",
    "from matplotlib import pyplot as plt\n",
    "\n",
    "import time\n",
    "import csv\n",
    "import h5py\n",
    "from keras.layers.core import Dense, Activation, Dropout, Flatten\n",
    "from keras.layers import BatchNormalization, Reshape, UpSampling2D, Conv2DTranspose, LeakyReLU, ZeroPadding2D, Input, Lambda, MaxPooling2D\n",
    "from keras.layers.convolutional import Conv2D\n",
    "from keras.layers.recurrent import LSTM, GRU\n",
    "from keras.models import Sequential, load_model, Model\n",
    "from keras import regularizers, optimizers\n",
    "from keras.optimizers import RMSprop, Adam\n",
    "np.random.seed(1234)\n",
    "from keras.utils import plot_model\n",
    "import keras.backend.tensorflow_backend as Kback\n",
    "from IPython.display import clear_output\n",
    "from keras import backend as K\n",
    "from keras import objectives\n",
    "import tensorflow as tf\n",
    "import scipy.io as sio\n",
    "from scipy import stats\n",
    "import scipy as scp\n",
    "from keras.backend.tensorflow_backend import set_session\n",
    "from keras.datasets import mnist\n",
    "from keras.models import load_model\n",
    "import os\n",
    "import random\n",
    "os.environ[\"CUDA_DEVICE_ORDER\"]=\"PCI_BUS_ID\"\n",
    "os.environ[\"CUDA_VISIBLE_DEVICES\"]='0'\n",
    "config=tf.ConfigProto()\n",
    "config.gpu_options.per_process_gpu_memory_fraction=1\n",
    "set_session(tf.Session(config=config))"
   ]
  },
  {
   "cell_type": "code",
   "execution_count": 2,
   "metadata": {},
   "outputs": [],
   "source": [
    "#Load data\n",
    "f = h5py.File('cropped.mat')"
   ]
  },
  {
   "cell_type": "code",
   "execution_count": 3,
   "metadata": {},
   "outputs": [
    {
     "name": "stdout",
     "output_type": "stream",
     "text": [
      "(3, 210, 165, 14114)\n"
     ]
    }
   ],
   "source": [
    "#input_parameters\n",
    "hrz = 40\n",
    "vrt = 40\n",
    "x_train = {}\n",
    "x_train_small_pre = np.ndarray((14114,hrz,vrt,3),int)\n",
    "x_train_small = np.ndarray((14114,hrz,vrt,3),int)\n",
    "x_train = f['bigdata'][()]\n",
    "print(x_train.shape)\n"
   ]
  },
  {
   "cell_type": "code",
   "execution_count": 4,
   "metadata": {},
   "outputs": [
    {
     "name": "stdout",
     "output_type": "stream",
     "text": [
      "(3, 210, 165, 14114)\n"
     ]
    },
    {
     "name": "stderr",
     "output_type": "stream",
     "text": [
      "/usr/local/lib/python3.4/dist-packages/ipykernel_launcher.py:5: DeprecationWarning: `imresize` is deprecated!\n",
      "`imresize` is deprecated in SciPy 1.0.0, and will be removed in 1.2.0.\n",
      "Use ``skimage.transform.resize`` instead.\n",
      "  \"\"\"\n"
     ]
    }
   ],
   "source": [
    "x_train_s = np.swapaxes(x_train,0,3)\n",
    "x_train_s = np.swapaxes(x_train_s,1,2)\n",
    "print(x_train.shape)\n",
    "for j in range(0,x_train_s.shape[0]):\n",
    "    pic = scp.misc.imresize(x_train_s[j,:,:],(hrz,vrt,3))\n",
    "    x_train_small_pre[j,:,:] = pic "
   ]
  },
  {
   "cell_type": "code",
   "execution_count": 5,
   "metadata": {},
   "outputs": [
    {
     "name": "stdout",
     "output_type": "stream",
     "text": [
      "(14114, 40, 40, 3)\n",
      "(40, 40, 3)\n",
      "249\n"
     ]
    },
    {
     "data": {
      "image/png": "[encoded data removed]",
      "text/plain": [
       "<matplotlib.figure.Figure at 0x7f4d05c82d68>"
      ]
     },
     "metadata": {},
     "output_type": "display_data"
    }
   ],
   "source": [
    "print(x_train_small_pre.shape)\n",
    "probe = random.randint(0,14114)\n",
    "testpic = x_train_small_pre[probe,:,:,:]\n",
    "print(testpic.shape)\n",
    "plt.imshow(testpic.astype(np.uint8)) \n",
    "print(max(testpic[:,0,0]))"
   ]
  },
  {
   "cell_type": "code",
   "execution_count": 6,
   "metadata": {
    "scrolled": false
   },
   "outputs": [
    {
     "name": "stdout",
     "output_type": "stream",
     "text": [
      "0.6823529411764706\n",
      "0.2627450980392157\n",
      "174.0\n",
      "67.0\n"
     ]
    },
    {
     "data": {
      "text/plain": [
       "<matplotlib.image.AxesImage at 0x7f4d0407e748>"
      ]
     },
     "execution_count": 6,
     "metadata": {},
     "output_type": "execute_result"
    },
    {
     "data": {
      "image/png": "[encoded data removed]",
      "text/plain": [
       "<matplotlib.figure.Figure at 0x7f4d742d58d0>"
      ]
     },
     "metadata": {},
     "output_type": "display_data"
    }
   ],
   "source": [
    "x_train_small = x_train_small_pre/255\n",
    "\n",
    "testpic_sml = x_train_small[probe,:,:,:]\n",
    "print(max(testpic_sml[:,0,2]))\n",
    "print(min(testpic_sml[:,0,2]))\n",
    "\n",
    "testpic = (x_train_small[probe,:,:,:]*255)\n",
    "print(max(testpic[:,0,2]))\n",
    "print(min(testpic[:,0,2]))\n",
    "plt.imshow(testpic.astype(np.uint8)) \n"
   ]
  },
  {
   "cell_type": "code",
   "execution_count": 7,
   "metadata": {},
   "outputs": [
    {
     "name": "stdout",
     "output_type": "stream",
     "text": [
      "(13000, 40, 40, 3)\n",
      "(1000, 40, 40, 3)\n",
      "(13000, 4800)\n",
      "(1000, 4800)\n",
      "1.0\n",
      "0.0\n",
      "float32\n"
     ]
    }
   ],
   "source": [
    "x_train = np.float32(x_train_small_pre)\n",
    "\n",
    "x_test = x_train[13000:14000,:,:,:]\n",
    "x_train = x_train[0:13000,:,:,:]\n",
    "\n",
    "x_train_flat = x_train.reshape(x_train.shape[0],4800)/255\n",
    "x_test_flat = x_test.reshape(x_test.shape[0],4800)/255\n",
    "print(x_train.shape)\n",
    "print(x_test.shape)\n",
    "print(x_train_flat.shape)\n",
    "print(x_test_flat.shape)\n",
    "print(np.amax(x_train_flat))\n",
    "print(np.amin(x_train_flat))\n",
    "print(x_train_flat.dtype)"
   ]
  },
  {
   "cell_type": "code",
   "execution_count": 8,
   "metadata": {},
   "outputs": [],
   "source": [
    "# Network size\n",
    "digit_size=40\n",
    "batch_size = 100\n",
    "latent_1 = 20 #50\n",
    "dim1 = 16 #64 \n",
    "dim2 = 32 #128\n",
    "dim3 = 64 #256\n",
    "epsilon_std=1.0"
   ]
  },
  {
   "cell_type": "code",
   "execution_count": 9,
   "metadata": {},
   "outputs": [
    {
     "name": "stdout",
     "output_type": "stream",
     "text": [
      "WARNING:tensorflow:From /usr/local/lib/python3.4/dist-packages/keras/backend/tensorflow_backend.py:1264: calling reduce_prod (from tensorflow.python.ops.math_ops) with keep_dims is deprecated and will be removed in a future version.\n",
      "Instructions for updating:\n",
      "keep_dims is deprecated, use keepdims instead\n"
     ]
    }
   ],
   "source": [
    "#Encoder\n",
    "\n",
    "X = Input(batch_shape=(batch_size,digit_size*digit_size*3))\n",
    "x = Reshape((digit_size,digit_size,3))(X) #40x40\n",
    "\n",
    "x = Conv2D(dim1, (3, 3), activation='relu', padding='same')(x)\n",
    "#x = Conv2D(dim2, (3, 3), activation='relu', padding='same')(x)\n",
    "\n",
    "x = MaxPooling2D((2, 2), padding='same')(x) #20x20\n",
    "\n",
    "#x = Conv2D(dim2, (3, 3), activation='relu', padding='same')(x)\n",
    "x = Conv2D(dim3, (3, 3), activation='relu', padding='same')(x)\n",
    "\n",
    "x = MaxPooling2D((2, 2), padding='same')(x) #10x10\n",
    "\n",
    "#x = Conv2D(dim3, (3, 3), activation='relu', padding='same')(x)\n",
    "x = Conv2D(dim3, (3, 3), activation='relu', padding='same')(x)\n",
    "\n",
    "encoded = MaxPooling2D((2, 2), padding='same')(x) #5x5\n",
    "encoded = Flatten()(encoded)\n",
    "zlayin = Dense(5*5*dim3,activation = 'relu')(encoded)\n",
    "\n",
    "z_mean = Dense(latent_1**2,name ='z_mean')(zlayin)\n",
    "z_log_var = Dense(latent_1**2,name ='z_var')(zlayin)\n",
    "\n",
    "# Create the function samplings\n",
    "def sampling(args):\n",
    "    z_mean,z_log_var = args\n",
    "    epsilon = K.random_normal(shape=(batch_size,latent_1**2), mean=0, stddev=epsilon_std) \n",
    "    return z_mean + K.exp(z_log_var)*epsilon\n",
    "\n",
    "z= Lambda(sampling, output_shape=(latent_1**2,))([z_mean, z_log_var])\n",
    "\n",
    "#Decoder\n",
    "zlayout = Dense(5*5*dim3,activation = 'relu')\n",
    "x0 = Reshape((5,5,dim3))\n",
    "\n",
    "x1 = Conv2D(dim3, (3, 3), activation='relu', padding='same')\n",
    "x2 = Conv2D(dim3, (3, 3), activation='relu', padding='same')\n",
    "\n",
    "x3 = UpSampling2D((2, 2))\n",
    "\n",
    "x4 = Conv2D(dim3, (3, 3), activation='relu', padding='same')\n",
    "x5 = Conv2D(dim2, (3, 3), activation='relu', padding='same')\n",
    "\n",
    "x6 = UpSampling2D((2, 2))\n",
    "\n",
    "x7 = Conv2D(dim2, (3, 3), activation='relu', padding='same')\n",
    "x8 = Conv2D(dim1, (3, 3), activation='relu', padding='same')\n",
    "\n",
    "x9 = UpSampling2D((2, 2))\n",
    "\n",
    "x10 = Conv2D(3, (3, 3), activation='sigmoid', padding='same')\n",
    "x11 = Flatten()\n",
    "\n",
    "x00 = zlayout(z)\n",
    "x0out = x0(x00)\n",
    "x1out = x1(x0out)\n",
    "#x2out = x2(x1out)\n",
    "x3out = x3(x1out)\n",
    "x4out = x4(x3out)\n",
    "#x5out = x5(x4out)\n",
    "x6out = x6(x4out)\n",
    "x7out = x7(x6out)\n",
    "#x8out = x8(x7out)\n",
    "x9out = x9(x7out)\n",
    "x10out = x10(x9out)\n",
    "decoded = x11(x10out) "
   ]
  },
  {
   "cell_type": "code",
   "execution_count": 10,
   "metadata": {},
   "outputs": [],
   "source": [
    "def vae_loss(x,x_bar):\n",
    "    reconst_loss=3*digit_size*digit_size*objectives.binary_crossentropy(x, x_bar) #compares images\n",
    "    #reconst_loss=objectives.binary_crossentropy(x, x_bar) #compares images\n",
    "    kl_loss=-0.5*K.sum(1 + z_log_var - K.square(z_mean) - K.exp(z_log_var), axis=-1) #compresses representations\n",
    "    return reconst_loss + kl_loss"
   ]
  },
  {
   "cell_type": "code",
   "execution_count": null,
   "metadata": {},
   "outputs": [],
   "source": [
    "# build and compile model\n",
    "vae=Model(X, decoded)\n",
    "vae.summary()\n",
    "#plot_model(vae, to_file='model.png')\n",
    "vae.compile(optimizer='adam', loss=vae_loss)\n"
   ]
  },
  {
   "cell_type": "code",
   "execution_count": null,
   "metadata": {},
   "outputs": [],
   "source": [
    "# Train the model\n",
    "batch_size=100\n",
    "nb_epochs=20\n",
    "\n",
    "history = vae.fit(x_train_flat,x_train_flat, \n",
    "        shuffle=True, \n",
    "        epochs=nb_epochs, \n",
    "        batch_size=batch_size, \n",
    "        validation_data=(x_test_flat, x_test_flat))"
   ]
  },
  {
   "cell_type": "code",
   "execution_count": null,
   "metadata": {
    "scrolled": true
   },
   "outputs": [],
   "source": [
    "plt.figure(figsize=(10, 5))\n",
    "ax = plt.subplot(1, 2,1)\n",
    "plt.plot(history.history['loss'])\n",
    "plt.legend(['train'], loc='upper left')\n",
    "#plt.ylim((-2000,10000))\n",
    "\n",
    "ax = plt.subplot(1, 2,2)\n",
    "plt.plot(history.history['val_loss'])\n",
    "plt.legend(['test'], loc='upper left')\n",
    "\n",
    "plt.show()"
   ]
  },
  {
   "cell_type": "code",
   "execution_count": null,
   "metadata": {},
   "outputs": [],
   "source": [
    "print(x_test_flat.shape)\n",
    "aind = np.random.randint(999, size=100)\n",
    "x_test_in = x_test_flat[aind,:]\n",
    "print(x_test_in.shape)\n",
    "decoded_imgs = vae.predict(x_test_in,batch_size=100)\n",
    "n = 5\n",
    "plt.figure(figsize=(20, 10))\n",
    "for i in range(n):\n",
    "    # display original\n",
    "    ax = plt.subplot(2, n, i+1)\n",
    "    plt.imshow(x_test_in[i].reshape(40, 40, 3))\n",
    "    ax.get_xaxis().set_visible(False)\n",
    "    ax.get_yaxis().set_visible(False)\n",
    "    # display reconstruction\n",
    "    ax = plt.subplot(2, n, i + n+1)\n",
    "    plt.imshow(decoded_imgs[i].reshape(40, 40,3))\n",
    "    ax.get_xaxis().set_visible(False)\n",
    "    ax.get_yaxis().set_visible(False)\n",
    "plt.show()"
   ]
  },
  {
   "cell_type": "code",
   "execution_count": null,
   "metadata": {},
   "outputs": [],
   "source": [
    "# since the generator treats z as an input, we make z an input layer\n",
    "\n",
    "latent_shape = latent_1*latent_1\n",
    "z_input=Input(shape=(latent_shape,))\n",
    "\n",
    "x00 = zlayout(z_input)\n",
    "x0out = x0(x00)\n",
    "x1out = x1(x0out)\n",
    "#x2out = x2(x1out)\n",
    "x3out = x3(x1out)\n",
    "x4out = x4(x3out)\n",
    "#x5out = x5(x4out)\n",
    "x6out = x6(x4out)\n",
    "x7out = x7(x6out)\n",
    "#x8out = x8(x7out)\n",
    "x9out = x9(x7out)\n",
    "x10out = x10(x9out)\n",
    "X_decoded = x11(x10out) \n",
    "\n",
    "generator= Model(z_input, X_decoded)\n",
    "\n",
    "n = 4\n",
    "plt.figure(figsize=(20, 20))\n",
    "for i in range(n):\n",
    "    # display fakes\n",
    "    z_sample=np.array([np.random.normal(0, 1, latent_shape)])\n",
    "    sampled_im=generator.predict(z_sample)\n",
    "    sampled_im = sampled_im[0].reshape(40, 40,3)\n",
    "    ax = plt.subplot(2, n, i+1)\n",
    "    plt.imshow(sampled_im)\n",
    "    ax.get_xaxis().set_visible(False)\n",
    "    ax.get_yaxis().set_visible(False)\n",
    "    \n",
    "plt.show()"
   ]
  },
  {
   "cell_type": "code",
   "execution_count": null,
   "metadata": {},
   "outputs": [],
   "source": [
    "#generator.save('lowresVAEGEN.h5')"
   ]
  }
 ],
 "metadata": {
  "kernelspec": {
   "display_name": "Python 3",
   "language": "python",
   "name": "python3"
  },
  "language_info": {
   "codemirror_mode": {
    "name": "ipython",
    "version": 3
   },
   "file_extension": ".py",
   "mimetype": "text/x-python",
   "name": "python",
   "nbconvert_exporter": "python",
   "pygments_lexer": "ipython3",
   "version": "3.4.3"
  }
 },
 "nbformat": 4,
 "nbformat_minor": 2
}
